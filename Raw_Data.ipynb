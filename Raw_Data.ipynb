{
 "cells": [
  {
   "cell_type": "code",
   "execution_count": 1,
   "id": "16afe940-f38c-4f92-a609-df49e2ff2eaf",
   "metadata": {},
   "outputs": [],
   "source": [
    "import warnings\n",
    "warnings.filterwarnings(\"ignore\")\n",
    "\n",
    "import os\n",
    "import sys\n",
    "import time\n",
    "import json\n",
    "import numpy as np\n",
    "import pandas as pd\n",
    "import geopandas as gpd\n",
    "import pickle as pkl\n",
    "import networkx as nx\n",
    "import matplotlib.pyplot as plt\n",
    "\n",
    "import src\n",
    "from src.reload import deep_reload"
   ]
  },
  {
   "cell_type": "code",
   "execution_count": 13,
   "id": "c54df60a-4e73-470b-97ee-ae425260c25f",
   "metadata": {},
   "outputs": [
    {
     "name": "stdout",
     "output_type": "stream",
     "text": [
      "Data loaded: 7.327 seconds\n"
     ]
    }
   ],
   "source": [
    "'''\n",
    "Paths and parameters\n",
    "'''\n",
    "\n",
    "module_path = 'Data/US/process.py'\n",
    "codex_path = 'Data/US/codex.json'\n",
    "output_path = 'Data/US/Processed/'\n",
    "verbose = True\n",
    "\n",
    "'''\n",
    "Loading processing module\n",
    "'''\n",
    "\n",
    "module = src.inputs.write_data.load_module(module_path)\n",
    "\n",
    "'''\n",
    "Loading data\n",
    "'''\n",
    "\n",
    "data = src.inputs.load_data.load(codex_path, verbose = verbose)"
   ]
  },
  {
   "cell_type": "code",
   "execution_count": 9,
   "id": "088cf8aa-d3b7-4fcc-b1bd-41fd084d81c6",
   "metadata": {},
   "outputs": [
    {
     "name": "stdout",
     "output_type": "stream",
     "text": [
      "Installed assets built: 87.61 seconds\n",
      "Optional assets built: 0.009142 seconds\n",
      "Lines built: 0.003124 seconds\n",
      "Profiles built: 0.6344 seconds\n",
      "Policies built: 9.537e-07 seconds\n"
     ]
    }
   ],
   "source": [
    "'''\n",
    "Processing raw data\n",
    "'''\n",
    "\n",
    "module = src.inputs.write_data.load_module(module_path)\n",
    "\n",
    "installed = module.build_installed_assets(data, verbose = verbose)\n",
    "optional = module.build_optional_assets(data, verbose = verbose)\n",
    "lines = module.build_lines(data, verbose = verbose)\n",
    "profiles = module.build_profiles(data, verbose = verbose)\n",
    "policies = module.build_policies(data, verbose = verbose)"
   ]
  },
  {
   "cell_type": "code",
   "execution_count": 18,
   "id": "ff319b78-e245-4431-99f7-d1fc2b84b653",
   "metadata": {},
   "outputs": [
    {
     "name": "stdout",
     "output_type": "stream",
     "text": [
      "Profiles formatted: 0.06387 seconds\n",
      "Installed assets formatted: 3.692 seconds\n",
      "Optional assets formatted: 0.05209 seconds\n",
      "Lines formatted: 0.02783 seconds\n",
      "Optional assets formatted: 0.0009866 seconds\n"
     ]
    }
   ],
   "source": [
    "'''\n",
    "Formatting processed data\n",
    "'''\n",
    "module = src.inputs.write_data.load_module(module_path)\n",
    "\n",
    "profiles_data, scale = module.format_profiles(\n",
    "    profiles, verbose = verbose\n",
    ")\n",
    "\n",
    "installed_data = module.format_installed_assets(\n",
    "    installed, scale, verbose = verbose\n",
    ")\n",
    "\n",
    "optional_data = module.format_optional_assets(\n",
    "    optional, verbose = verbose\n",
    ")\n",
    "\n",
    "lines_data = module.format_lines(\n",
    "    lines, verbose = verbose\n",
    ")\n",
    "\n",
    "policies_data = module.format_policies(\n",
    "    policies, verbose = verbose\n",
    ")"
   ]
  },
  {
   "cell_type": "code",
   "execution_count": 19,
   "id": "ce29719f-10db-495a-9955-114211c4999a",
   "metadata": {},
   "outputs": [
    {
     "name": "stdout",
     "output_type": "stream",
     "text": [
      "Assets written: 0.5174 seconds\n",
      "Lines written: 0.03425 seconds\n",
      "Profles written: 3.845 seconds\n",
      "Policies written: 0.0005534 seconds\n"
     ]
    }
   ],
   "source": [
    "'''\n",
    "Writing JSONs\n",
    "'''\n",
    "module = src.inputs.write_data.load_module(module_path)\n",
    "\n",
    "module.write_assets(\n",
    "    installed_data + optional_data, output_path = output_path, verbose = verbose\n",
    ")\n",
    "\n",
    "module.write_lines(lines_data, output_path = output_path, verbose = verbose)\n",
    "module.write_profiles(profiles_data, output_path = output_path, verbose = verbose)\n",
    "module.write_policies(policies_data, output_path = output_path, verbose = verbose)"
   ]
  },
  {
   "cell_type": "code",
   "execution_count": null,
   "id": "0c2c3117-acea-47df-894a-335ed8f69a20",
   "metadata": {},
   "outputs": [],
   "source": []
  }
 ],
 "metadata": {
  "kernelspec": {
   "display_name": "Python 3 (ipykernel)",
   "language": "python",
   "name": "python3"
  },
  "language_info": {
   "codemirror_mode": {
    "name": "ipython",
    "version": 3
   },
   "file_extension": ".py",
   "mimetype": "text/x-python",
   "name": "python",
   "nbconvert_exporter": "python",
   "pygments_lexer": "ipython3",
   "version": "3.11.5"
  }
 },
 "nbformat": 4,
 "nbformat_minor": 5
}
