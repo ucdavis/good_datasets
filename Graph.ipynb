{
 "cells": [
  {
   "cell_type": "code",
   "execution_count": 1,
   "id": "9e5cd1eb-6f39-4981-9215-727a8a1350e2",
   "metadata": {},
   "outputs": [],
   "source": [
    "import warnings\n",
    "warnings.filterwarnings(\"ignore\")\n",
    "\n",
    "import os\n",
    "import sys\n",
    "import time\n",
    "import json\n",
    "import numpy as np\n",
    "import pandas as pd\n",
    "import geopandas as gpd\n",
    "import pickle as pkl\n",
    "import networkx as nx\n",
    "import matplotlib.pyplot as plt\n",
    "\n",
    "import src\n",
    "from src.reload import deep_reload"
   ]
  },
  {
   "cell_type": "code",
   "execution_count": 13,
   "id": "062297df-91d9-4926-9abf-2d00cd2f4732",
   "metadata": {},
   "outputs": [],
   "source": [
    "'''\n",
    "Loading processed data\n",
    "'''\n",
    "deep_reload(src)\n",
    "\n",
    "assets_path = 'Data/US/Processed/combined_assets.json'\n",
    "lines_path = 'Data/US/Processed/lines.json'\n",
    "profiles_path = 'Data/US/Processed/profiles/'\n",
    "policies_path = 'Data/US/Processed/policies.json'\n",
    "\n",
    "assets = src.utilities.read_json(assets_path)\n",
    "lines = src.utilities.read_json(lines_path)\n",
    "profiles = src.utilities.read_jsons(profiles_path, output = 'dict')\n",
    "policies = src.utilities.read_json(policies_path)"
   ]
  },
  {
   "cell_type": "code",
   "execution_count": 14,
   "id": "c0208db5-4cca-4dd2-a920-fce984fb4e6e",
   "metadata": {},
   "outputs": [],
   "source": [
    "'''\n",
    "Building the US graph\n",
    "'''\n",
    "deep_reload(src)\n",
    "\n",
    "graph = src.graph.build_graph(assets, lines, profiles, policies)"
   ]
  },
  {
   "cell_type": "code",
   "execution_count": 15,
   "id": "5cc2c6ef-a1fa-4597-8525-0da7d78f96c6",
   "metadata": {},
   "outputs": [
    {
     "data": {
      "text/plain": [
       "(117, 4288)"
      ]
     },
     "execution_count": 15,
     "metadata": {},
     "output_type": "execute_result"
    }
   ],
   "source": [
    "graph.number_of_nodes(), graph.number_of_edges()"
   ]
  },
  {
   "cell_type": "code",
   "execution_count": 16,
   "id": "2d5a487f-297d-4eb0-80d0-a09b36aca15c",
   "metadata": {},
   "outputs": [],
   "source": [
    "path = 'Graphs/US.json'\n",
    "\n",
    "src.graph.graph_to_json(graph, path)"
   ]
  },
  {
   "cell_type": "code",
   "execution_count": 17,
   "id": "c315faef-7228-405b-aa2e-0a9068b2969e",
   "metadata": {},
   "outputs": [
    {
     "data": {
      "text/plain": [
       "NodeView(('ERC_FRNT', 'ERC_GWAY', 'ERC_PHDL', 'ERC_REST', 'ERC_WEST', 'FRCC', 'MIS_AMSO', 'MIS_AR', 'MIS_D_MS', 'MIS_IA', 'MIS_IL', 'MIS_INKY', 'MIS_LA', 'MIS_LMI', 'MIS_MAPP', 'MIS_MIDA', 'MIS_MNWI', 'MIS_MO', 'MIS_WOTA', 'MIS_WUMS', 'NENGREST', 'NENG_CT', 'NENG_ME', 'NY_Z_A', 'NY_Z_B', 'NY_Z_C&E', 'NY_Z_D', 'NY_Z_F', 'NY_Z_G-I', 'NY_Z_J', 'NY_Z_K', 'PJM_AP', 'PJM_ATSI', 'PJM_COMD', 'PJM_Dom', 'PJM_EMAC', 'PJM_PENE', 'PJM_SMAC', 'PJM_WMAC', 'PJM_West', 'SPP_KIAM', 'SPP_N', 'SPP_NEBR', 'SPP_SPS', 'SPP_WAUE', 'SPP_WEST', 'S_C_KY', 'S_C_TVA', 'S_D_AECI', 'S_SOU', 'S_VACA', 'WECC_AZ', 'WECC_CO', 'WECC_ID', 'WECC_IID', 'WECC_MT', 'WECC_NM', 'WECC_NNV', 'WECC_PNW', 'WECC_SCE', 'WECC_SNV', 'WECC_UT', 'WECC_WY', 'WEC_BANC', 'WEC_CALN', 'WEC_LADW', 'WEC_SDGE', 'AL', 'AR', 'AZ', 'CA', 'CO', 'CT', 'DC', 'DE', 'FL', 'GA', 'IA', 'ID', 'IL', 'IN', 'KS', 'KY', 'LA', 'MA', 'MD', 'ME', 'MI', 'MN', 'MO', 'MO ', 'MS', 'MT', 'NC', 'ND', 'NE', 'NH', 'NJ', 'NM', 'NV', 'NY', 'OH', 'OK', 'OR', 'PA', 'RI', 'SC', 'SD', 'TN', 'TX', 'UT', 'VA', 'VT', 'WA', 'WI', 'WV', 'WY'))"
      ]
     },
     "execution_count": 17,
     "metadata": {},
     "output_type": "execute_result"
    }
   ],
   "source": [
    "graph.nodes"
   ]
  },
  {
   "cell_type": "code",
   "execution_count": 18,
   "id": "b76ff8ee-ffb4-4d17-955e-c4a7589e1548",
   "metadata": {},
   "outputs": [
    {
     "name": "stdout",
     "output_type": "stream",
     "text": [
      "6 15\n"
     ]
    }
   ],
   "source": [
    "'''\n",
    "ERCOT Subgraph\n",
    "'''\n",
    "from copy import deepcopy\n",
    "\n",
    "nerc = 'ERC'\n",
    "\n",
    "subgraph_nodes = ['TX'] + [n for n in graph.nodes if nerc in n]\n",
    "\n",
    "subgraph = deepcopy(src.graph.subgraph(graph, subgraph_nodes))\n",
    "print(subgraph.number_of_nodes(), subgraph.number_of_edges())\n",
    "\n",
    "path = 'Graphs/ERCOT.json'\n",
    "\n",
    "src.graph.graph_to_json(subgraph, path)"
   ]
  },
  {
   "cell_type": "code",
   "execution_count": 19,
   "id": "a1daf059-88ab-40ea-b1a8-4c8cb42d50cc",
   "metadata": {},
   "outputs": [
    {
     "name": "stdout",
     "output_type": "stream",
     "text": [
      "23 144\n"
     ]
    }
   ],
   "source": [
    "'''\n",
    "WECC Subgraph\n",
    "'''\n",
    "from copy import deepcopy\n",
    "\n",
    "nerc = 'WECC'\n",
    "\n",
    "states = ['WA', 'OR', 'CA', 'ID', 'NV', 'UT', 'AZ', 'MT', 'WY', 'CO', 'NM']\n",
    "\n",
    "subgraph_nodes = states + [n for n in graph.nodes if nerc in n]\n",
    "\n",
    "subgraph = deepcopy(src.graph.subgraph(graph, subgraph_nodes))\n",
    "print(subgraph.number_of_nodes(), subgraph.number_of_edges())\n",
    "\n",
    "path = 'Graphs/WECC.json'\n",
    "\n",
    "src.graph.graph_to_json(subgraph, path)"
   ]
  },
  {
   "cell_type": "code",
   "execution_count": null,
   "id": "9c9db644-77f7-4804-9876-007acdc372cb",
   "metadata": {},
   "outputs": [],
   "source": []
  }
 ],
 "metadata": {
  "kernelspec": {
   "display_name": "Python 3 (ipykernel)",
   "language": "python",
   "name": "python3"
  },
  "language_info": {
   "codemirror_mode": {
    "name": "ipython",
    "version": 3
   },
   "file_extension": ".py",
   "mimetype": "text/x-python",
   "name": "python",
   "nbconvert_exporter": "python",
   "pygments_lexer": "ipython3",
   "version": "3.11.5"
  }
 },
 "nbformat": 4,
 "nbformat_minor": 5
}
