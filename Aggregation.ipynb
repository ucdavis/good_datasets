{
 "cells": [
  {
   "cell_type": "code",
   "execution_count": 1,
   "id": "620bf01a-20a8-41b6-8c20-8ffe83535e2f",
   "metadata": {},
   "outputs": [],
   "source": [
    "import warnings\n",
    "warnings.filterwarnings(\"ignore\")\n",
    "\n",
    "import os\n",
    "import sys\n",
    "import time\n",
    "import json\n",
    "import numpy as np\n",
    "import pandas as pd\n",
    "import geopandas as gpd\n",
    "import pickle as pkl\n",
    "import networkx as nx\n",
    "import matplotlib.pyplot as plt\n",
    "\n",
    "import src\n",
    "from src.reload import deep_reload"
   ]
  },
  {
   "cell_type": "code",
   "execution_count": 3,
   "id": "4cd2d1b9-c429-4d84-9a72-81ef9807e4fd",
   "metadata": {},
   "outputs": [],
   "source": [
    "with open('Data/US/Processed/assets.json', 'r') as file:\n",
    "\n",
    "    assets = json.load(file)"
   ]
  },
  {
   "cell_type": "code",
   "execution_count": 5,
   "id": "e67820f5-768c-4d6c-b745-a769c9980fa1",
   "metadata": {},
   "outputs": [
    {
     "data": {
      "text/plain": [
       "(18930, 3123)"
      ]
     },
     "execution_count": 5,
     "metadata": {},
     "output_type": "execute_result"
    }
   ],
   "source": [
    "'''\n",
    "Gathering unique plants\n",
    "'''\n",
    "\n",
    "installed = {p['id']: p for p in assets if p['combinable']}\n",
    "optional = [p for p in assets if not p['combinable']]\n",
    "\n",
    "len(installed), len(optional)"
   ]
  },
  {
   "cell_type": "code",
   "execution_count": 6,
   "id": "726c9571-c8a1-4fe2-be3c-9518d404fe9d",
   "metadata": {
    "scrolled": true
   },
   "outputs": [
    {
     "name": "stdout",
     "output_type": "stream",
     "text": [
      "58.0993766784668\n"
     ]
    }
   ],
   "source": [
    "'''\n",
    "Creating communities for installed assets\n",
    "'''\n",
    "\n",
    "deep_reload(src)\n",
    "\n",
    "t0 = time.time()\n",
    "\n",
    "fields = src.inputs.aggregate.default_fields\n",
    "\n",
    "communities_installed = src.inputs.aggregate.communities(installed, fields = fields)\n",
    "\n",
    "print(time.time() - t0)"
   ]
  },
  {
   "cell_type": "code",
   "execution_count": 7,
   "id": "cce4f376-7903-4e5e-9f22-fefc9984db7c",
   "metadata": {
    "scrolled": true
   },
   "outputs": [
    {
     "name": "stdout",
     "output_type": "stream",
     "text": [
      "0.12894129753112793\n"
     ]
    }
   ],
   "source": [
    "'''\n",
    "Creating groups for installed assets\n",
    "'''\n",
    "\n",
    "deep_reload(src)\n",
    "\n",
    "t0 = time.time()\n",
    "\n",
    "functions = {\n",
    "    'oris_code': 'all',\n",
    "    'egrid_id': 'all',\n",
    "    'type': 'first',\n",
    "    'fuel': 'first',\n",
    "    '_class': 'first',\n",
    "    'profile': 'first',\n",
    "    'region': 'first',\n",
    "    'jurisdiction': 'first',\n",
    "    'nerc': 'first',\n",
    "    'utility': 'all',\n",
    "    'x': 'mean',\n",
    "    'y': 'mean',\n",
    "    'installed_capacity': 'sum',\n",
    "    'capacity_factor': 'mean',\n",
    "    'dispatchable': 'first',\n",
    "    'combinable': 'first',\n",
    "    'renewable': 'first',\n",
    "    'extensible': 'first',\n",
    "    'capex_capacity': 'sum',\n",
    "    'capex_cost': 'sum',\n",
    "    'operating_cost': 'mean',\n",
    "    'heat_rate': 'mean',\n",
    "    'nox': 'mean',\n",
    "    'so2': 'mean',\n",
    "    'co2': 'mean',\n",
    "    'ch4': 'mean',\n",
    "    'n2o': 'mean',\n",
    "    'pm': 'mean',\n",
    "}\n",
    "\n",
    "combined_installed = src.inputs.aggregate.combine(\n",
    "    installed, communities_installed, functions = functions,\n",
    ")\n",
    "\n",
    "print(time.time() - t0)"
   ]
  },
  {
   "cell_type": "code",
   "execution_count": 8,
   "id": "7fb59840-03a0-4d96-bf58-0eab3df7b0e1",
   "metadata": {},
   "outputs": [],
   "source": [
    "'''\n",
    "Combining and writing\n",
    "'''\n",
    "deep_reload(src)\n",
    "\n",
    "new_assets = (\n",
    "    combined_installed + optional\n",
    ")\n",
    "\n",
    "src.utilities.write_json(\n",
    "    new_assets, filename = 'Data/US/Processed/combined_assets.json'\n",
    ")"
   ]
  },
  {
   "cell_type": "code",
   "execution_count": 9,
   "id": "6e553371-b8a2-4402-879f-56b064b1f41b",
   "metadata": {},
   "outputs": [
    {
     "data": {
      "text/plain": [
       "6354"
      ]
     },
     "execution_count": 9,
     "metadata": {},
     "output_type": "execute_result"
    }
   ],
   "source": [
    "len(new_assets)"
   ]
  },
  {
   "cell_type": "code",
   "execution_count": 10,
   "id": "3089cd5d-1b3f-4d93-b8b4-75d572dfd7eb",
   "metadata": {},
   "outputs": [
    {
     "data": {
      "image/png": "[encoded data removed]",
      "text/plain": [
       "<Figure size 640x480 with 1 Axes>"
      ]
     },
     "metadata": {},
     "output_type": "display_data"
    }
   ],
   "source": [
    "_ = plt.hist([len(c) for c in communities_installed], bins = np.arange(0, 21, 1))"
   ]
  },
  {
   "cell_type": "code",
   "execution_count": null,
   "id": "5e4b8dc9-8fe7-4bc8-a884-9839b2fb1352",
   "metadata": {},
   "outputs": [],
   "source": []
  }
 ],
 "metadata": {
  "kernelspec": {
   "display_name": "Python 3 (ipykernel)",
   "language": "python",
   "name": "python3"
  },
  "language_info": {
   "codemirror_mode": {
    "name": "ipython",
    "version": 3
   },
   "file_extension": ".py",
   "mimetype": "text/x-python",
   "name": "python",
   "nbconvert_exporter": "python",
   "pygments_lexer": "ipython3",
   "version": "3.11.5"
  }
 },
 "nbformat": 4,
 "nbformat_minor": 5
}
